{
 "cells": [
  {
   "cell_type": "code",
   "execution_count": 2,
   "metadata": {},
   "outputs": [],
   "source": [
    "#importing libraries \n",
    "import numpy as np \n",
    "import matplotlib.pyplot as plt \n",
    "import pandas as pd\n",
    "\n",
    "#neural network libraries\n",
    "from tensorflow import keras \n",
    "from keras import Sequential\n",
    "\n",
    "\n",
    "#xgb boost library \n",
    "import xgboost as xgb\n",
    "\n",
    "#evaluation code from evaluation.py\n",
    "import evaluation\n",
    "\n"
   ]
  },
  {
   "cell_type": "code",
   "execution_count": null,
   "metadata": {},
   "outputs": [],
   "source": [
    "#loading datasets and functions to call datasets\n",
    "#directory used is PS C:\\Users\\madhav\\OneDrive\\Desktop\\comp phy\\Dataset>\n",
    "\"Function to read test data\"\n",
    "data_test = pd.read_csv(\"test.csv.zip\")\n",
    "\n",
    "\"Function to read train csv data\"\n",
    "data_train = pd.read_csv(\"training.csv.zip\")\n",
    "\n",
    "\"Function to open training data\"\n",
    "data_training = pd.read_csv('training.csv.zip')\n",
    "\n",
    "\"Function to read check agreement csv file\"\n",
    "data_check = pd.read_csv('check_agreement.csv.zip')\n",
    "\n",
    "\"function to read correlation csv file\"\n",
    "data_correlation = pd.read_csv('check_correlation.csv.zip')\n",
    "\n",
    "\n"
   ]
  },
  {
   "cell_type": "code",
   "execution_count": 11,
   "metadata": {},
   "outputs": [],
   "source": [
    "\n",
    "#filtered variables (Secondary training dataset)\n",
    "variables=['id','min_ANNmuon', 'production', 'mass', 'signal', 'SPDhits','dira','DOCAone',\t'FlightDistance','FlightDistanceError','p1_p','p2_p','p0_eta','p2_eta']\n",
    "data_variables = data_train.drop(variables, axis = 1)\n",
    "#variable to train\n",
    "train_labels = data_train['signal']"
   ]
  },
  {
   "cell_type": "code",
   "execution_count": null,
   "metadata": {},
   "outputs": [],
   "source": [
    "#Histogram plots for background and signal events from training dataset\n",
    "signal = data_training.loc[data_training['signal'] == 1]\n",
    "background = data_training.loc[data_training['signal'] == 0]\n",
    "\n",
    "\n",
    "for column in signal.columns:\n",
    "    plt.hist(signal[column],  label=('signal event '+ column))\n",
    "    plt.hist(background[column], label=('background event '+ column))\n",
    "    plt.legend(loc=\"best\")\n",
    "    plt.show()"
   ]
  },
  {
   "cell_type": "code",
   "execution_count": null,
   "metadata": {},
   "outputs": [],
   "source": [
    "#FInal Keras Neural Network\n",
    "model = Sequential()\n",
    "#layers\n",
    "model.add(keras.layers.Dense(10,  activation='swish'))\n",
    "model.add(keras.layers.Dense(1, activation='sigmoid'))\n",
    "#optimizer\n",
    "adam=keras.optimizers.Adam(learning_rate=0.005)\n",
    "\n",
    "model.compile(loss='binary_crossentropy', optimizer= adam)\n",
    "model.fit(data_variables, train_labels, epochs=20, shuffle=True)\n"
   ]
  },
  {
   "cell_type": "code",
   "execution_count": 21,
   "metadata": {},
   "outputs": [],
   "source": [
    "#Filtering variables from check_correlation.csv\n",
    "variables_check = data_check.drop(['signal', 'id', 'weight', 'SPDhits','dira','DOCAone',\t'FlightDistance','FlightDistanceError','p1_p','p2_p','p0_eta','p2_eta',\n",
    "], axis = 1)\n",
    "check_lables = data_check['signal']\n",
    "check_weights = data_check['weight']\n",
    "\n",
    "#Filtering variables from check_correlation.csv\n",
    "variables_correlation = data_correlation.drop(['id', 'mass', 'SPDhits','dira','DOCAone',\t'FlightDistance','FlightDistanceError','p1_p','p2_p','p0_eta','p2_eta'\n",
    "], axis = 1)\n",
    "\n"
   ]
  },
  {
   "cell_type": "code",
   "execution_count": null,
   "metadata": {},
   "outputs": [],
   "source": [
    "#Calculating performance scores\n",
    "\n",
    "agreement_prob = model.predict(variables_check)\n",
    "correlation_prob = model.predict(variables_correlation)\n",
    "correlation_prob = correlation_prob.reshape(-1,)\n",
    "\n",
    "\n",
    "#KS test for Keras neural network\n",
    "ks_keras = evaluation.compute_ks(\n",
    "agreement_prob[data_check['signal'].values == 0],\n",
    "agreement_prob[data_check['signal'].values == 1],\n",
    "data_check[data_check['signal'] == 0]['weight'].values,\n",
    "data_check[data_check['signal'] == 1]['weight'].values)\n",
    "print ('KS metric', ks_keras, ks_keras < 0.09)\n",
    "\n",
    "#CvM test for Keras nueral network\n",
    "cvm_keras = evaluation.compute_cvm(correlation_prob, data_correlation['mass'])\n",
    "print ('CvM metric', cvm_keras, cvm_keras < 0.002)"
   ]
  },
  {
   "cell_type": "code",
   "execution_count": null,
   "metadata": {},
   "outputs": [],
   "source": [
    "#Final XGBoost classifer\n",
    "trees = 100\n",
    "parameters = {\"objective\": \"binary:logistic\",\n",
    "          \"eta\": 0.7,\n",
    "          \"max_depth\": 12,\n",
    "          \"min_child_weight\": 4,\n",
    "          \"silent\":2,\n",
    "          \"seed\": 3}\n",
    "model_xgb = xgb.train(parameters, xgb.DMatrix(data_variables, train_labels), trees)"
   ]
  },
  {
   "cell_type": "code",
   "execution_count": null,
   "metadata": {},
   "outputs": [],
   "source": [
    "#Calculating performance scores for XGBoost classifier\n",
    "xgb_agreement_pred = model_xgb.predict(xgb.DMatrix(variables_check))\n",
    "xgb_correlation_pred = model_xgb.predict(xgb.DMatrix(variables_correlation))\n",
    "\n",
    "#KS test for XGBoost model\n",
    "ks_xgboost = evaluation.compute_ks(\n",
    "xgb_agreement_pred[data_check['signal'].values == 0],\n",
    "xgb_agreement_pred[data_check['signal'].values == 1],\n",
    "data_check[data_check['signal'] == 0]['weight'].values,\n",
    "data_check[data_check['signal'] == 1]['weight'].values)\n",
    "print ('KS Test Score =', ks_xgboost)\n",
    "\n",
    "#CvM test for XGBoost model\n",
    "cvm_xgboost = evaluation.compute_cvm(xgb_correlation_pred, data_correlation['mass'])\n",
    "print ('CvM Test Score = ', cvm_xgboost)"
   ]
  },
  {
   "cell_type": "code",
   "execution_count": null,
   "metadata": {},
   "outputs": [],
   "source": [
    "#displaying CvM and KS metric in tables\n",
    "from tabulate import tabulate\n",
    "\n",
    "print(tabulate({'Model Type': ['Keras', 'XGboost'], 'KS Test': [ks_keras,ks_xgboost], 'CvM Metric': [cvm_keras, cvm_xgboost]}, headers=\"keys\", tablefmt='fancy_grid'))"
   ]
  },
  {
   "cell_type": "code",
   "execution_count": null,
   "metadata": {},
   "outputs": [],
   "source": [
    "#Comparing model performance \n",
    "\n",
    "import sklearn.metrics as metrics\n",
    "\n",
    "#keras evaluation metrics\n",
    "\n",
    "probs_k = model.predict(variables_check)\n",
    "#calculating false positive and true positive rates for Keras network\n",
    "fpr_k, tpr_k, threshold = metrics.roc_curve(data_check['signal'], probs_k)\n",
    "#auc value for Keras network\n",
    "roc_auc_k = metrics.auc(fpr_k, tpr_k)\n",
    "\n",
    "#XGB evaluation metrics\n",
    "\n",
    "pred_XGB = model_xgb.predict(xgb.DMatrix(variables_check))\n",
    "#calculating false positive and true positive rates for XGBoost\n",
    "fpr_xgb, tpr_xgb, threshold = metrics.roc_curve(check_lables, pred_XGB)\n",
    "#auc value for XGBoost\n",
    "roc_auc_x = metrics.auc(fpr_xgb, tpr_xgb)\n",
    "\n",
    "#plotting ROC curves\n",
    "import matplotlib.pyplot as plt\n",
    "plt.title('ROC Model Evaluation')\n",
    "plt.plot(fpr_k, tpr_k, color='orange', label = 'Keras Model. AUC = %0.03f' % roc_auc_k)\n",
    "plt.plot(fpr_xgb, tpr_xgb,color='blue',label = 'XGBoost. AUC=  %0.03f ' % roc_auc_x)\n",
    "plt.plot(np.linspace(0,1),np.linspace(0,1),'k--')\n",
    "\n",
    "plt.legend(loc = 'best')\n",
    "plt.xlabel('False Positive Rate')\n",
    "plt.ylabel('True Positive Rate')\n",
    "plt.show()\n",
    " "
   ]
  },
  {
   "cell_type": "code",
   "execution_count": null,
   "metadata": {},
   "outputs": [],
   "source": []
  }
 ],
 "metadata": {
  "interpreter": {
   "hash": "1baa965d5efe3ac65b79dfc60c0d706280b1da80fedb7760faf2759126c4f253"
  },
  "kernelspec": {
   "display_name": "Python 3.8.6 64-bit",
   "language": "python",
   "name": "python3"
  },
  "language_info": {
   "codemirror_mode": {
    "name": "ipython",
    "version": 3
   },
   "file_extension": ".py",
   "mimetype": "text/x-python",
   "name": "python",
   "nbconvert_exporter": "python",
   "pygments_lexer": "ipython3",
   "version": "3.8.6"
  },
  "orig_nbformat": 4
 },
 "nbformat": 4,
 "nbformat_minor": 2
}
